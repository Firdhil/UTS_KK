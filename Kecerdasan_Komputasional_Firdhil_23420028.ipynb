{
  "nbformat": 4,
  "nbformat_minor": 0,
  "metadata": {
    "colab": {
      "provenance": [],
      "authorship_tag": "ABX9TyNdRvYVCb2bk0zxUghz9Ecx",
      "include_colab_link": true
    },
    "kernelspec": {
      "name": "python3",
      "display_name": "Python 3"
    },
    "language_info": {
      "name": "python"
    }
  },
  "cells": [
    {
      "cell_type": "markdown",
      "metadata": {
        "id": "view-in-github",
        "colab_type": "text"
      },
      "source": [
        "<a href=\"https://colab.research.google.com/github/Firdhil/UTS_KK/blob/main/Kecerdasan_Komputasional_Firdhil_23420028.ipynb\" target=\"_parent\"><img src=\"https://colab.research.google.com/assets/colab-badge.svg\" alt=\"Open In Colab\"/></a>"
      ]
    },
    {
      "cell_type": "code",
      "execution_count": null,
      "metadata": {
        "id": "PNda3GFCskTj"
      },
      "outputs": [],
      "source": [
        "import matplotlib as plt\n",
        "from sklearn.datasets import make_blobs\n",
        "from sklearn.cluster import KMeans\n",
        "from sklearn.metrics import silhouette_score\n",
        "from sklearn.preprocessing import StandardScaler"
      ]
    },
    {
      "cell_type": "code",
      "source": [
        "features, true_label = make_blobs(\n",
        "    n_samples=820,\n",
        "    centers=5,\n",
        "    cluster_std=8.20,\n",
        "    random_state=12\n",
        ")"
      ],
      "metadata": {
        "id": "y4KvJc-qssU-"
      },
      "execution_count": null,
      "outputs": []
    },
    {
      "cell_type": "code",
      "source": [
        "features[:10]"
      ],
      "metadata": {
        "colab": {
          "base_uri": "https://localhost:8080/"
        },
        "id": "2Lx4DUOps1Op",
        "outputId": "1cc83cb8-e5b3-40a5-cfc0-08ab23d85b7f"
      },
      "execution_count": null,
      "outputs": [
        {
          "output_type": "execute_result",
          "data": {
            "text/plain": [
              "array([[  8.40347914,  10.76857885],\n",
              "       [ 15.20717247, -18.24146165],\n",
              "       [ 14.76040838, -14.32030087],\n",
              "       [  8.36829927,   0.33630158],\n",
              "       [-25.82655816,  16.88954986],\n",
              "       [ 11.0117282 , -15.3883451 ],\n",
              "       [ -2.57920399,   8.9528992 ],\n",
              "       [ -4.05340994, -15.96122042],\n",
              "       [ -3.99686367,   1.03158536],\n",
              "       [  5.2599774 , -24.56316934]])"
            ]
          },
          "metadata": {},
          "execution_count": 3
        }
      ]
    },
    {
      "cell_type": "code",
      "source": [
        "true_label[:200]"
      ],
      "metadata": {
        "colab": {
          "base_uri": "https://localhost:8080/"
        },
        "id": "8O9OXv2Bs4vr",
        "outputId": "5423b44d-2985-4ea8-f79d-ddfc3789c05e"
      },
      "execution_count": null,
      "outputs": [
        {
          "output_type": "execute_result",
          "data": {
            "text/plain": [
              "array([4, 3, 3, 3, 2, 4, 2, 1, 1, 3, 3, 4, 4, 1, 0, 3, 4, 3, 0, 1, 0, 2,\n",
              "       4, 1, 4, 1, 0, 2, 4, 2, 1, 1, 4, 2, 1, 4, 2, 1, 0, 1, 4, 0, 3, 3,\n",
              "       4, 4, 2, 0, 2, 2, 1, 1, 1, 0, 2, 2, 1, 3, 3, 1, 0, 3, 1, 3, 3, 1,\n",
              "       0, 3, 0, 2, 0, 2, 3, 2, 2, 0, 3, 0, 4, 2, 3, 0, 3, 1, 2, 1, 1, 4,\n",
              "       4, 4, 1, 3, 3, 3, 3, 1, 3, 1, 1, 2, 1, 1, 1, 2, 2, 4, 1, 2, 4, 2,\n",
              "       1, 4, 3, 1, 1, 2, 2, 4, 0, 4, 0, 2, 0, 2, 4, 4, 3, 3, 2, 1, 2, 2,\n",
              "       4, 0, 4, 0, 3, 0, 4, 1, 2, 0, 3, 2, 2, 2, 0, 0, 4, 2, 1, 1, 2, 2,\n",
              "       0, 1, 1, 4, 4, 0, 3, 1, 1, 2, 0, 3, 2, 4, 1, 3, 2, 3, 4, 0, 0, 1,\n",
              "       3, 3, 1, 2, 3, 4, 2, 3, 4, 1, 2, 3, 3, 2, 2, 3, 2, 0, 1, 4, 0, 3,\n",
              "       3, 3])"
            ]
          },
          "metadata": {},
          "execution_count": 4
        }
      ]
    },
    {
      "cell_type": "code",
      "source": [
        "standard_skala = StandardScaler()\n",
        "skala_fitur = standard_skala.fit_transform(features)"
      ],
      "metadata": {
        "id": "_zKJAVFys9KG"
      },
      "execution_count": null,
      "outputs": []
    },
    {
      "cell_type": "code",
      "source": [
        "skala_fitur[:10]"
      ],
      "metadata": {
        "colab": {
          "base_uri": "https://localhost:8080/"
        },
        "id": "e1bMSJVms_1v",
        "outputId": "59de32ac-9609-4e51-b231-537f32e362c4"
      },
      "execution_count": null,
      "outputs": [
        {
          "output_type": "execute_result",
          "data": {
            "text/plain": [
              "array([[ 0.84290801,  1.07867382],\n",
              "       [ 1.44787904, -1.64128945],\n",
              "       [ 1.40815365, -1.27364387],\n",
              "       [ 0.83977988,  0.10055002],\n",
              "       [-2.20075958,  1.65257224],\n",
              "       [ 1.07482838, -1.37378303],\n",
              "       [-0.13365057,  0.90843683],\n",
              "       [-0.26473406, -1.42749546],\n",
              "       [-0.25970608,  0.16573939],\n",
              "       [ 0.56339402, -2.23400882]])"
            ]
          },
          "metadata": {},
          "execution_count": 6
        }
      ]
    },
    {
      "cell_type": "code",
      "source": [
        "metode_kmeans = KMeans(\n",
        "    init=\"random\", \n",
        "    n_clusters=9, \n",
        "    n_init=10, \n",
        "    max_iter=100, \n",
        "    random_state=42\n",
        "    )"
      ],
      "metadata": {
        "id": "CHlefEWdtDWf"
      },
      "execution_count": null,
      "outputs": []
    },
    {
      "cell_type": "code",
      "source": [
        "metode_kmeans.fit(skala_fitur)"
      ],
      "metadata": {
        "colab": {
          "base_uri": "https://localhost:8080/",
          "height": 75
        },
        "id": "BEDdcY59tH9E",
        "outputId": "aa98f96f-5ba2-4ea6-99f1-9290d28f0ecd"
      },
      "execution_count": null,
      "outputs": [
        {
          "output_type": "execute_result",
          "data": {
            "text/plain": [
              "KMeans(init='random', max_iter=100, n_clusters=9, n_init=10, random_state=42)"
            ],
            "text/html": [
              "<style>#sk-container-id-1 {color: black;background-color: white;}#sk-container-id-1 pre{padding: 0;}#sk-container-id-1 div.sk-toggleable {background-color: white;}#sk-container-id-1 label.sk-toggleable__label {cursor: pointer;display: block;width: 100%;margin-bottom: 0;padding: 0.3em;box-sizing: border-box;text-align: center;}#sk-container-id-1 label.sk-toggleable__label-arrow:before {content: \"▸\";float: left;margin-right: 0.25em;color: #696969;}#sk-container-id-1 label.sk-toggleable__label-arrow:hover:before {color: black;}#sk-container-id-1 div.sk-estimator:hover label.sk-toggleable__label-arrow:before {color: black;}#sk-container-id-1 div.sk-toggleable__content {max-height: 0;max-width: 0;overflow: hidden;text-align: left;background-color: #f0f8ff;}#sk-container-id-1 div.sk-toggleable__content pre {margin: 0.2em;color: black;border-radius: 0.25em;background-color: #f0f8ff;}#sk-container-id-1 input.sk-toggleable__control:checked~div.sk-toggleable__content {max-height: 200px;max-width: 100%;overflow: auto;}#sk-container-id-1 input.sk-toggleable__control:checked~label.sk-toggleable__label-arrow:before {content: \"▾\";}#sk-container-id-1 div.sk-estimator input.sk-toggleable__control:checked~label.sk-toggleable__label {background-color: #d4ebff;}#sk-container-id-1 div.sk-label input.sk-toggleable__control:checked~label.sk-toggleable__label {background-color: #d4ebff;}#sk-container-id-1 input.sk-hidden--visually {border: 0;clip: rect(1px 1px 1px 1px);clip: rect(1px, 1px, 1px, 1px);height: 1px;margin: -1px;overflow: hidden;padding: 0;position: absolute;width: 1px;}#sk-container-id-1 div.sk-estimator {font-family: monospace;background-color: #f0f8ff;border: 1px dotted black;border-radius: 0.25em;box-sizing: border-box;margin-bottom: 0.5em;}#sk-container-id-1 div.sk-estimator:hover {background-color: #d4ebff;}#sk-container-id-1 div.sk-parallel-item::after {content: \"\";width: 100%;border-bottom: 1px solid gray;flex-grow: 1;}#sk-container-id-1 div.sk-label:hover label.sk-toggleable__label {background-color: #d4ebff;}#sk-container-id-1 div.sk-serial::before {content: \"\";position: absolute;border-left: 1px solid gray;box-sizing: border-box;top: 0;bottom: 0;left: 50%;z-index: 0;}#sk-container-id-1 div.sk-serial {display: flex;flex-direction: column;align-items: center;background-color: white;padding-right: 0.2em;padding-left: 0.2em;position: relative;}#sk-container-id-1 div.sk-item {position: relative;z-index: 1;}#sk-container-id-1 div.sk-parallel {display: flex;align-items: stretch;justify-content: center;background-color: white;position: relative;}#sk-container-id-1 div.sk-item::before, #sk-container-id-1 div.sk-parallel-item::before {content: \"\";position: absolute;border-left: 1px solid gray;box-sizing: border-box;top: 0;bottom: 0;left: 50%;z-index: -1;}#sk-container-id-1 div.sk-parallel-item {display: flex;flex-direction: column;z-index: 1;position: relative;background-color: white;}#sk-container-id-1 div.sk-parallel-item:first-child::after {align-self: flex-end;width: 50%;}#sk-container-id-1 div.sk-parallel-item:last-child::after {align-self: flex-start;width: 50%;}#sk-container-id-1 div.sk-parallel-item:only-child::after {width: 0;}#sk-container-id-1 div.sk-dashed-wrapped {border: 1px dashed gray;margin: 0 0.4em 0.5em 0.4em;box-sizing: border-box;padding-bottom: 0.4em;background-color: white;}#sk-container-id-1 div.sk-label label {font-family: monospace;font-weight: bold;display: inline-block;line-height: 1.2em;}#sk-container-id-1 div.sk-label-container {text-align: center;}#sk-container-id-1 div.sk-container {/* jupyter's `normalize.less` sets `[hidden] { display: none; }` but bootstrap.min.css set `[hidden] { display: none !important; }` so we also need the `!important` here to be able to override the default hidden behavior on the sphinx rendered scikit-learn.org. See: https://github.com/scikit-learn/scikit-learn/issues/21755 */display: inline-block !important;position: relative;}#sk-container-id-1 div.sk-text-repr-fallback {display: none;}</style><div id=\"sk-container-id-1\" class=\"sk-top-container\"><div class=\"sk-text-repr-fallback\"><pre>KMeans(init=&#x27;random&#x27;, max_iter=100, n_clusters=9, n_init=10, random_state=42)</pre><b>In a Jupyter environment, please rerun this cell to show the HTML representation or trust the notebook. <br />On GitHub, the HTML representation is unable to render, please try loading this page with nbviewer.org.</b></div><div class=\"sk-container\" hidden><div class=\"sk-item\"><div class=\"sk-estimator sk-toggleable\"><input class=\"sk-toggleable__control sk-hidden--visually\" id=\"sk-estimator-id-1\" type=\"checkbox\" checked><label for=\"sk-estimator-id-1\" class=\"sk-toggleable__label sk-toggleable__label-arrow\">KMeans</label><div class=\"sk-toggleable__content\"><pre>KMeans(init=&#x27;random&#x27;, max_iter=100, n_clusters=9, n_init=10, random_state=42)</pre></div></div></div></div></div>"
            ]
          },
          "metadata": {},
          "execution_count": 8
        }
      ]
    },
    {
      "cell_type": "code",
      "source": [
        "metode_kmeans.inertia_"
      ],
      "metadata": {
        "colab": {
          "base_uri": "https://localhost:8080/"
        },
        "id": "7FgJ0hldtKch",
        "outputId": "c93aee36-5cec-46ad-d541-a993b2359f6c"
      },
      "execution_count": null,
      "outputs": [
        {
          "output_type": "execute_result",
          "data": {
            "text/plain": [
              "243.16937919047328"
            ]
          },
          "metadata": {},
          "execution_count": 9
        }
      ]
    },
    {
      "cell_type": "code",
      "source": [
        "metode_kmeans.cluster_centers_"
      ],
      "metadata": {
        "colab": {
          "base_uri": "https://localhost:8080/"
        },
        "id": "vVXOhm-4tOta",
        "outputId": "fcf061f4-2c11-4380-f1cb-db831c2a7ba1"
      },
      "execution_count": null,
      "outputs": [
        {
          "output_type": "execute_result",
          "data": {
            "text/plain": [
              "array([[ 0.34198226, -0.7420547 ],\n",
              "       [ 1.63318317, -0.68624115],\n",
              "       [ 0.75227748, -1.72273849],\n",
              "       [-1.07341106, -0.46322807],\n",
              "       [-1.44740207,  1.94790095],\n",
              "       [-0.29711627,  0.2521444 ],\n",
              "       [-0.15382279,  1.28430116],\n",
              "       [-1.3832084 ,  0.82362405],\n",
              "       [ 0.78106245,  0.28712119]])"
            ]
          },
          "metadata": {},
          "execution_count": 10
        }
      ]
    },
    {
      "cell_type": "code",
      "source": [
        "metode_kmeans.n_iter_"
      ],
      "metadata": {
        "colab": {
          "base_uri": "https://localhost:8080/"
        },
        "id": "1gRE6Cr2tRRU",
        "outputId": "0cab56b5-b97b-4bb3-eb79-70e9fb15a0a3"
      },
      "execution_count": null,
      "outputs": [
        {
          "output_type": "execute_result",
          "data": {
            "text/plain": [
              "34"
            ]
          },
          "metadata": {},
          "execution_count": 11
        }
      ]
    },
    {
      "cell_type": "code",
      "source": [
        "metode_kmeans.labels_"
      ],
      "metadata": {
        "colab": {
          "base_uri": "https://localhost:8080/"
        },
        "id": "sOWcaUBItVUz",
        "outputId": "fe9d44f6-84df-49b3-bad7-9a5e7005e6dd"
      },
      "execution_count": null,
      "outputs": [
        {
          "output_type": "execute_result",
          "data": {
            "text/plain": [
              "array([8, 2, 1, 8, 4, 2, 6, 0, 5, 2, 0, 0, 2, 5, 7, 0, 1, 1, 3, 0, 0, 4,\n",
              "       2, 3, 8, 3, 5, 3, 1, 7, 5, 0, 1, 3, 0, 8, 6, 0, 6, 3, 0, 3, 1, 2,\n",
              "       1, 1, 5, 7, 6, 4, 3, 0, 0, 0, 6, 7, 8, 2, 0, 6, 7, 2, 3, 2, 1, 7,\n",
              "       3, 0, 5, 3, 3, 4, 0, 4, 6, 8, 2, 7, 8, 7, 1, 7, 1, 0, 7, 8, 7, 0,\n",
              "       1, 1, 7, 2, 6, 2, 0, 3, 5, 8, 5, 7, 5, 2, 5, 3, 6, 8, 6, 5, 1, 6,\n",
              "       6, 7, 2, 8, 4, 6, 7, 8, 7, 8, 5, 7, 5, 5, 0, 8, 0, 0, 5, 3, 4, 7,\n",
              "       1, 8, 1, 7, 5, 8, 2, 0, 4, 7, 8, 5, 5, 4, 8, 3, 0, 8, 7, 3, 6, 6,\n",
              "       5, 5, 5, 1, 2, 7, 2, 3, 5, 7, 5, 8, 6, 2, 8, 0, 7, 2, 0, 7, 3, 5,\n",
              "       1, 1, 5, 3, 0, 8, 6, 2, 8, 3, 6, 6, 2, 7, 5, 0, 6, 7, 5, 1, 5, 0,\n",
              "       2, 2, 7, 6, 5, 8, 0, 5, 2, 1, 6, 7, 8, 8, 5, 6, 5, 6, 6, 0, 3, 6,\n",
              "       5, 7, 5, 4, 3, 0, 2, 0, 0, 4, 8, 3, 7, 0, 8, 5, 5, 4, 5, 8, 2, 0,\n",
              "       8, 8, 6, 0, 0, 0, 4, 0, 8, 0, 8, 5, 8, 7, 7, 6, 5, 0, 0, 1, 4, 2,\n",
              "       0, 3, 7, 7, 6, 6, 0, 5, 1, 0, 4, 6, 2, 0, 0, 4, 6, 1, 3, 7, 7, 7,\n",
              "       7, 3, 1, 0, 0, 5, 6, 0, 0, 6, 6, 5, 3, 5, 4, 0, 4, 0, 4, 7, 5, 1,\n",
              "       6, 2, 5, 4, 7, 0, 2, 5, 1, 0, 1, 8, 0, 4, 5, 7, 6, 8, 1, 3, 0, 6,\n",
              "       8, 0, 6, 1, 6, 3, 1, 1, 4, 1, 7, 3, 2, 1, 3, 6, 1, 6, 3, 5, 5, 5,\n",
              "       8, 6, 8, 8, 5, 5, 3, 0, 0, 1, 6, 5, 2, 8, 0, 0, 6, 0, 0, 3, 5, 0,\n",
              "       5, 6, 7, 7, 6, 6, 4, 8, 7, 8, 0, 6, 0, 3, 1, 0, 1, 7, 5, 1, 5, 3,\n",
              "       5, 2, 6, 5, 4, 6, 0, 3, 2, 1, 0, 1, 2, 6, 3, 8, 3, 0, 8, 3, 6, 2,\n",
              "       0, 2, 1, 3, 5, 8, 2, 2, 0, 5, 1, 3, 5, 0, 5, 8, 0, 7, 5, 7, 1, 4,\n",
              "       8, 0, 6, 5, 1, 7, 4, 0, 0, 0, 3, 6, 6, 1, 1, 6, 2, 6, 8, 5, 5, 0,\n",
              "       8, 3, 5, 5, 7, 0, 5, 6, 0, 3, 0, 5, 7, 1, 0, 5, 7, 8, 0, 7, 1, 0,\n",
              "       3, 6, 3, 1, 7, 3, 7, 0, 0, 8, 3, 7, 3, 7, 0, 5, 2, 8, 2, 6, 5, 5,\n",
              "       1, 5, 7, 0, 5, 2, 4, 0, 5, 3, 8, 5, 8, 8, 1, 0, 7, 0, 0, 1, 5, 5,\n",
              "       7, 2, 5, 1, 5, 2, 8, 5, 6, 5, 8, 5, 2, 0, 2, 2, 0, 8, 8, 8, 7, 0,\n",
              "       3, 6, 8, 0, 5, 0, 5, 7, 1, 8, 5, 5, 6, 0, 0, 5, 6, 5, 7, 7, 8, 5,\n",
              "       3, 2, 3, 5, 3, 8, 0, 7, 3, 4, 0, 0, 7, 0, 4, 0, 6, 4, 6, 6, 5, 5,\n",
              "       8, 1, 0, 2, 1, 0, 1, 5, 5, 0, 1, 1, 6, 5, 7, 7, 0, 5, 7, 0, 5, 0,\n",
              "       0, 1, 0, 6, 2, 2, 1, 3, 5, 5, 5, 1, 8, 3, 0, 3, 5, 3, 1, 5, 0, 6,\n",
              "       3, 0, 5, 3, 6, 5, 5, 0, 5, 6, 0, 6, 8, 8, 4, 8, 8, 5, 6, 6, 3, 1,\n",
              "       6, 2, 1, 0, 1, 5, 8, 6, 2, 2, 5, 1, 5, 6, 7, 0, 0, 8, 6, 8, 6, 6,\n",
              "       3, 7, 5, 0, 7, 8, 6, 7, 6, 0, 1, 5, 7, 7, 0, 2, 1, 6, 2, 0, 0, 3,\n",
              "       3, 6, 8, 7, 2, 6, 4, 2, 5, 2, 8, 7, 6, 8, 2, 7, 8, 0, 7, 8, 0, 6,\n",
              "       0, 2, 7, 0, 3, 1, 2, 5, 3, 1, 5, 7, 2, 8, 0, 1, 7, 3, 0, 8, 7, 5,\n",
              "       5, 0, 2, 5, 8, 7, 6, 1, 1, 0, 1, 3, 4, 5, 0, 3, 2, 0, 8, 8, 0, 2,\n",
              "       1, 0, 5, 5, 3, 2, 0, 0, 4, 5, 5, 6, 0, 8, 0, 3, 7, 5, 2, 0, 8, 5,\n",
              "       3, 2, 3, 1, 7, 2, 1, 0, 6, 6, 5, 1, 3, 1, 6, 1, 8, 4, 8, 8, 7, 0,\n",
              "       8, 6, 5, 4, 5, 1], dtype=int32)"
            ]
          },
          "metadata": {},
          "execution_count": 12
        }
      ]
    },
    {
      "cell_type": "code",
      "source": [
        "import numpy as np\n",
        "import matplotlib.pyplot as plt\n",
        "import pandas as pd"
      ],
      "metadata": {
        "id": "vGiytrfxtba6"
      },
      "execution_count": null,
      "outputs": []
    },
    {
      "cell_type": "code",
      "source": [
        "color = np.array([\"Red\",\"Green\",\"Blue\",\"yellow\",\"black\",\"white\",\"brown\",\"pink\",\"purple\"])\n",
        "plt.subplot(1,2,2)\n",
        "plt.scatter(skala_fitur[:,0], skala_fitur[:,1], s=50, alpha=1, cmap='viridis', c=color[metode_kmeans.labels_])"
      ],
      "metadata": {
        "colab": {
          "base_uri": "https://localhost:8080/",
          "height": 482
        },
        "id": "yWYoYU84tf4y",
        "outputId": "ef289699-588a-4817-af04-fa1c2e375053"
      },
      "execution_count": null,
      "outputs": [
        {
          "output_type": "stream",
          "name": "stderr",
          "text": [
            "<ipython-input-14-4be062c28ced>:3: UserWarning: No data for colormapping provided via 'c'. Parameters 'cmap' will be ignored\n",
            "  plt.scatter(skala_fitur[:,0], skala_fitur[:,1], s=50, alpha=1, cmap='viridis', c=color[metode_kmeans.labels_])\n"
          ]
        },
        {
          "output_type": "execute_result",
          "data": {
            "text/plain": [
              "<matplotlib.collections.PathCollection at 0x7fb869cafc10>"
            ]
          },
          "metadata": {},
          "execution_count": 14
        },
        {
          "output_type": "display_data",
          "data": {
            "text/plain": [
              "<Figure size 640x480 with 1 Axes>"
            ],
            "image/png": "[encoded data removed]"
          },
          "metadata": {}
        }
      ]
    }
  ]
}